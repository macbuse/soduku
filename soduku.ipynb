{
 "cells": [
  {
   "cell_type": "markdown",
   "metadata": {},
   "source": [
    "# Image2soduku\n",
    "\n",
    "The Guardian has a Soduku which appears as a 431 x 431 JPEG image\n",
    "\n",
    "https://www.theguardian.com/lifeandstyle/2018/mar/07/sudoku-4001-medium\n",
    "\n",
    "There are a variety of solvers\n",
    "\n",
    "http://code.activestate.com/recipes/473893-sudoku-solver/\n",
    "\n",
    "but they take an text array as input.\n",
    "\n",
    "## Objective\n",
    "\n",
    "Recognise the digits in the 9 x 9 \n",
    "grid and convert \n",
    "to a list of digits\n",
    "using just basic **numpy** and **skimage**."
   ]
  },
  {
   "cell_type": "code",
   "execution_count": 31,
   "metadata": {},
   "outputs": [],
   "source": [
    "import skimage.io\n",
    "import numpy as np\n",
    "\n",
    "from  scipy import stats\n",
    "\n",
    "import matplotlib.pyplot as plt\n",
    "%matplotlib inline\n",
    "`\n"
   ]
  },
  {
   "cell_type": "markdown",
   "metadata": {},
   "source": [
    "So I downloaded an image to play with in **soduku.jpg**"
   ]
  },
  {
   "cell_type": "code",
   "execution_count": 4,
   "metadata": {},
   "outputs": [
    {
     "data": {
      "text/plain": [
       "(431, 431)"
      ]
     },
     "execution_count": 4,
     "metadata": {},
     "output_type": "execute_result"
    }
   ],
   "source": [
    "im = skimage.io.imread('soduku.jpg', flatten=True)\n",
    "im.shape"
   ]
  },
  {
   "cell_type": "code",
   "execution_count": 35,
   "metadata": {},
   "outputs": [],
   "source": [
    "xt = np.sum(im,axis=1)\n",
    "yt = np.sum(im,axis=0)\n",
    "#300 is pretty safe\n",
    "xray = np.where(xt<300)[0]\n",
    "yray = np.where(yt<300)[0]"
   ]
  },
  {
   "cell_type": "markdown",
   "metadata": {},
   "source": [
    "Let's look at the distribution of grey in the columns\n",
    "to justify the choice of 300 as a cutoff"
   ]
  },
  {
   "cell_type": "code",
   "execution_count": 60,
   "metadata": {},
   "outputs": [
    {
     "data": {
      "text/plain": [
       "[<matplotlib.lines.Line2D at 0x11e8c8a50>]"
      ]
     },
     "execution_count": 60,
     "metadata": {},
     "output_type": "execute_result"
    },
    {
     "data": {
      "image/png": "[encoded data removed]",
      "text/plain": [
       "<matplotlib.figure.Figure at 0x11e6d8e10>"
      ]
     },
     "metadata": {},
     "output_type": "display_data"
    }
   ],
   "source": [
    "plt.plot(xt)"
   ]
  },
  {
   "cell_type": "code",
   "execution_count": 85,
   "metadata": {},
   "outputs": [],
   "source": [
    "yy = []\n",
    "for L in [xray,yray]:\n",
    "    rr = L - np.roll(L,1)\n",
    "    rl = L - np.roll(L,-1)\n",
    "    yy.append( zip( L[ np.where( rl < -1)] + 1, L[ np.where( rr > 1 )] - 1 ) )"
   ]
  },
  {
   "cell_type": "code",
   "execution_count": 100,
   "metadata": {},
   "outputs": [],
   "source": [
    "M = np.zeros((2,9), dtype = np.int32)\n",
    "rr = xray - np.roll(xray,1)\n",
    "M[0,:] = xray[ np.where( rl < -1)] + 1\n",
    "rr = yray - np.roll(yray,1)\n",
    "M[1,:] = yray[ np.where( rl < -1)] + 1"
   ]
  },
  {
   "cell_type": "code",
   "execution_count": 134,
   "metadata": {},
   "outputs": [],
   "source": [
    "starts = np.max(M, axis=0)"
   ]
  },
  {
   "cell_type": "code",
   "execution_count": 135,
   "metadata": {},
   "outputs": [],
   "source": [
    "import itertools\n",
    "windows_ul = list(itertools.product(starts ,starts))"
   ]
  },
  {
   "cell_type": "code",
   "execution_count": 252,
   "metadata": {},
   "outputs": [
    {
     "data": {
      "image/png": "[encoded data removed]",
      "text/plain": [
       "<matplotlib.figure.Figure at 0x11cfe4510>"
      ]
     },
     "metadata": {},
     "output_type": "display_data"
    }
   ],
   "source": [
    "windows_UL = list(itertools.product(starts ,starts))\n",
    "\n",
    "#0 is a placeholder for a blank square\n",
    "example_for = {5:0,\n",
    "0:1,\n",
    "2:8,\n",
    "3:22,\n",
    "4:32,\n",
    "1:39,\n",
    "6:20,\n",
    "7:46,\n",
    "8:41,\n",
    "9:42}\n",
    "\n",
    "import skimage.transform\n",
    "x_0,y_0 = windows_UL[example_for[6]]\n",
    "img = im[x_0+7 :x_0+39, y_0+7:y_0+39]\n",
    "img = skimage.transform.resize(img, (8,8))\n",
    "plt.imshow(img, cmap=plt.cm.gray)\n",
    "plt.show()"
   ]
  },
  {
   "cell_type": "code",
   "execution_count": 256,
   "metadata": {},
   "outputs": [],
   "source": [
    "sx_sy = 32\n",
    "offset = 7\n",
    "windows_ul_corner = list(itertools.product(starts + offset, starts + offset))\n",
    "\n",
    "def box2vec(xx):\n",
    "    x,y = xx\n",
    "    #get a chunk, resize, flatten and normalize\n",
    "    img = im[x:x+sx_sy, y:y+sx_sy]\n",
    "    v  = skimage.transform.resize(img, (8,8))\n",
    "    v = v.flatten()\n",
    "    return v/np.linalg.norm(v)\n",
    "\n",
    "#we need a library of examples\n",
    "test_samples = np.zeros((10,64))\n",
    "for digit in range(0,10):\n",
    "    test_samples[digit,:] = box2vec( windows_ul_corner[ example_for[digit]])\n",
    "\n",
    "test_samples = test_samples.transpose()"
   ]
  },
  {
   "cell_type": "code",
   "execution_count": 257,
   "metadata": {},
   "outputs": [],
   "source": [
    "soduku = []\n",
    "for dd in windows_ul[:]:\n",
    "    probas = np.dot(box2vec(dd), test_samples)\n",
    "    soduku.append( np.where( probas >.98)[0][0] )\n",
    "    "
   ]
  },
  {
   "cell_type": "code",
   "execution_count": 258,
   "metadata": {},
   "outputs": [
    {
     "data": {
      "text/plain": [
       "[5,\n",
       " 0,\n",
       " 0,\n",
       " 0,\n",
       " 0,\n",
       " 0,\n",
       " 0,\n",
       " 9,\n",
       " 2,\n",
       " 0,\n",
       " 0,\n",
       " 0,\n",
       " 0,\n",
       " 8,\n",
       " 2,\n",
       " 0,\n",
       " 0,\n",
       " 0,\n",
       " 2,\n",
       " 0,\n",
       " 6,\n",
       " 0,\n",
       " 3,\n",
       " 0,\n",
       " 0,\n",
       " 0,\n",
       " 0,\n",
       " 9,\n",
       " 6,\n",
       " 0,\n",
       " 0,\n",
       " 0,\n",
       " 4,\n",
       " 0,\n",
       " 2,\n",
       " 0,\n",
       " 0,\n",
       " 0,\n",
       " 4,\n",
       " 1,\n",
       " 0,\n",
       " 8,\n",
       " 9,\n",
       " 0,\n",
       " 0,\n",
       " 0,\n",
       " 7,\n",
       " 0,\n",
       " 3,\n",
       " 0,\n",
       " 0,\n",
       " 0,\n",
       " 5,\n",
       " 4,\n",
       " 0,\n",
       " 0,\n",
       " 0,\n",
       " 0,\n",
       " 1,\n",
       " 0,\n",
       " 7,\n",
       " 0,\n",
       " 3,\n",
       " 0,\n",
       " 0,\n",
       " 0,\n",
       " 4,\n",
       " 5,\n",
       " 0,\n",
       " 0,\n",
       " 0,\n",
       " 0,\n",
       " 6,\n",
       " 1,\n",
       " 0,\n",
       " 0,\n",
       " 0,\n",
       " 0,\n",
       " 0,\n",
       " 0,\n",
       " 5]"
      ]
     },
     "execution_count": 258,
     "metadata": {},
     "output_type": "execute_result"
    }
   ],
   "source": [
    "soduku"
   ]
  },
  {
   "cell_type": "code",
   "execution_count": null,
   "metadata": {
    "collapsed": true
   },
   "outputs": [],
   "source": []
  }
 ],
 "metadata": {
  "kernelspec": {
   "display_name": "Python 2",
   "language": "python",
   "name": "python2"
  },
  "language_info": {
   "codemirror_mode": {
    "name": "ipython",
    "version": 2
   },
   "file_extension": ".py",
   "mimetype": "text/x-python",
   "name": "python",
   "nbconvert_exporter": "python",
   "pygments_lexer": "ipython2",
   "version": "2.7.13"
  }
 },
 "nbformat": 4,
 "nbformat_minor": 2
}
